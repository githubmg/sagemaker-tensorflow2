{
 "cells": [
  {
   "cell_type": "code",
   "execution_count": 7,
   "metadata": {},
   "outputs": [
    {
     "name": "stdout",
     "output_type": "stream",
     "text": [
      "{\"username\":\"mggaska\",\"key\":\"65f5ce65231d9849aa9a12b04199f3d6\"}"
     ]
    },
    {
     "name": "stderr",
     "output_type": "stream",
     "text": [
      "WARNING: You are using pip version 20.3; however, version 21.0 is available.\n",
      "You should consider upgrading via the '/home/ec2-user/anaconda3/envs/python3/bin/python -m pip install --upgrade pip' command.\n",
      "WARNING: You are using pip version 20.3; however, version 21.0 is available.\n",
      "You should consider upgrading via the '/home/ec2-user/anaconda3/envs/python3/bin/python -m pip install --upgrade pip' command.\n"
     ]
    }
   ],
   "source": [
    "%%bash\n",
    "pip install -q kaggle\n",
    "pip install -q kaggle-cli\n",
    "mkdir -p ~/.kaggle\n",
    "cp \"kaggle.json\" ~/.kaggle/\n",
    "cat ~/.kaggle/kaggle.json \n",
    "chmod 600 ~/.kaggle/kaggle.json"
   ]
  },
  {
   "cell_type": "code",
   "execution_count": 8,
   "metadata": {},
   "outputs": [],
   "source": [
    "!rm -rf modeldata\n",
    "!rm -rf splitdata\n",
    "!rm -rf 256_ObjectCategories"
   ]
  },
  {
   "cell_type": "code",
   "execution_count": 10,
   "metadata": {},
   "outputs": [
    {
     "name": "stdout",
     "output_type": "stream",
     "text": [
      "Downloading caltech256.zip to ./data\n",
      "100%|██████████████████████████████████████▉| 2.12G/2.12G [00:21<00:00, 125MB/s]\n",
      "100%|███████████████████████████████████████| 2.12G/2.12G [00:21<00:00, 107MB/s]\n"
     ]
    }
   ],
   "source": [
    "# \n",
    "!kaggle datasets download -d jessicali9530/caltech256 -p ./data"
   ]
  },
  {
   "cell_type": "code",
   "execution_count": 12,
   "metadata": {},
   "outputs": [],
   "source": [
    "!unzip ./data/caltech256.zip"
   ]
  },
  {
   "cell_type": "code",
   "execution_count": 13,
   "metadata": {},
   "outputs": [],
   "source": [
    "import os\n",
    "import numpy as np\n",
    "import shutil\n",
    "import random\n"
   ]
  },
  {
   "cell_type": "code",
   "execution_count": 14,
   "metadata": {},
   "outputs": [],
   "source": [
    "# Veamos las clases que existen"
   ]
  },
  {
   "cell_type": "code",
   "execution_count": 15,
   "metadata": {},
   "outputs": [
    {
     "data": {
      "text/plain": [
       "['096.hammock',\n",
       " '147.mushroom',\n",
       " '162.picnic-table',\n",
       " '092.grapes',\n",
       " '020.brain-101',\n",
       " '255.tennis-shoes',\n",
       " '193.soccer-ball',\n",
       " '134.llama-101',\n",
       " '241.waterfall',\n",
       " '029.cannon',\n",
       " '012.binoculars',\n",
       " '041.coffee-mug',\n",
       " '039.chopsticks',\n",
       " '228.triceratops',\n",
       " '035.cereal-box',\n",
       " '238.video-projector',\n",
       " '197.speed-boat',\n",
       " '208.swiss-army-knife',\n",
       " '154.palm-tree',\n",
       " '004.baseball-bat',\n",
       " '242.watermelon',\n",
       " '191.sneaker',\n",
       " '098.harp',\n",
       " '198.spider',\n",
       " '010.beer-mug',\n",
       " '213.teddy-bear',\n",
       " '107.hot-air-balloon',\n",
       " '028.camel',\n",
       " '204.sunflower-101',\n",
       " '177.saturn',\n",
       " '023.bulldozer',\n",
       " '058.doorknob',\n",
       " '248.yarmulke',\n",
       " '104.homer-simpson',\n",
       " '013.birdbath',\n",
       " '016.boom-box',\n",
       " '206.sushi',\n",
       " '018.bowling-pin',\n",
       " '207.swan',\n",
       " '178.school-bus',\n",
       " '051.cowboy-hat',\n",
       " '216.tennis-ball',\n",
       " '173.rifle',\n",
       " '063.electric-guitar-101',\n",
       " '065.elk',\n",
       " '045.computer-keyboard',\n",
       " '086.golden-gate-bridge',\n",
       " '214.teepee',\n",
       " '057.dolphin-101',\n",
       " '006.basketball-hoop',\n",
       " '184.sheet-music',\n",
       " '175.roulette-wheel',\n",
       " '231.tripod',\n",
       " '233.tuning-fork',\n",
       " '068.fern',\n",
       " '087.goldfish',\n",
       " '106.horseshoe-crab',\n",
       " '076.football-helmet',\n",
       " '181.segway',\n",
       " '135.mailbox',\n",
       " '050.covered-wagon',\n",
       " '239.washing-machine',\n",
       " '168.raccoon',\n",
       " '097.harmonica',\n",
       " '166.praying-mantis',\n",
       " '224.touring-bike',\n",
       " '075.floppy-disk',\n",
       " '110.hourglass',\n",
       " '080.frog',\n",
       " '019.boxing-glove',\n",
       " '116.iguana',\n",
       " '185.skateboard',\n",
       " '192.snowmobile',\n",
       " '143.minaret',\n",
       " '226.traffic-light',\n",
       " '141.microscope',\n",
       " '102.helicopter-101',\n",
       " '017.bowling-ball',\n",
       " '174.rotary-phone',\n",
       " '128.lathe',\n",
       " '256.toad',\n",
       " '127.laptop-101',\n",
       " '052.crab-101',\n",
       " '251.airplanes-101',\n",
       " '247.xylophone',\n",
       " '158.penguin',\n",
       " '073.fireworks',\n",
       " '163.playing-card',\n",
       " '230.trilobite-101',\n",
       " '203.stirrups',\n",
       " '218.tennis-racket',\n",
       " '021.breadmaker',\n",
       " '044.comet',\n",
       " '182.self-propelled-lawn-mower',\n",
       " '215.telephone-box',\n",
       " '142.microwave',\n",
       " '229.tricycle',\n",
       " '133.lightning',\n",
       " '183.sextant',\n",
       " '053.desk-globe',\n",
       " '120.joy-stick',\n",
       " '132.light-house',\n",
       " '149.necktie',\n",
       " '002.american-flag',\n",
       " '126.ladder',\n",
       " '024.butterfly',\n",
       " '030.canoe',\n",
       " '113.hummingbird',\n",
       " '129.leopards-101',\n",
       " '155.paperclip',\n",
       " '150.octopus',\n",
       " '137.mars',\n",
       " '225.tower-pisa',\n",
       " '049.cormorant',\n",
       " '220.toaster',\n",
       " '243.welding-mask',\n",
       " '067.eyeglasses',\n",
       " '237.vcr',\n",
       " '123.ketch-101',\n",
       " '196.spaghetti',\n",
       " '179.scorpion-101',\n",
       " '071.fire-hydrant',\n",
       " '151.ostrich',\n",
       " '195.soda-can',\n",
       " '083.gas-pump',\n",
       " '202.steering-wheel',\n",
       " '043.coin',\n",
       " '034.centipede',\n",
       " '022.buddha-101',\n",
       " '047.computer-mouse',\n",
       " '070.fire-extinguisher',\n",
       " '172.revolver-101',\n",
       " '091.grand-piano-101',\n",
       " '090.gorilla',\n",
       " '105.horse',\n",
       " '015.bonsai-101',\n",
       " '130.license-plate',\n",
       " '077.french-horn',\n",
       " '156.paper-shredder',\n",
       " '170.rainbow',\n",
       " '036.chandelier-101',\n",
       " '153.palm-pilot',\n",
       " '200.stained-glass',\n",
       " '217.tennis-court',\n",
       " '118.iris',\n",
       " '201.starfish-101',\n",
       " '140.menorah-101',\n",
       " '037.chess-board',\n",
       " '131.lightbulb',\n",
       " '124.killer-whale',\n",
       " '038.chimp',\n",
       " '099.harpsichord',\n",
       " '253.faces-easy-101',\n",
       " '219.theodolite',\n",
       " '159.people',\n",
       " '222.tombstone',\n",
       " '094.guitar-pick',\n",
       " '165.pram',\n",
       " '205.superman',\n",
       " '069.fighter-jet',\n",
       " '027.calculator',\n",
       " '190.snake',\n",
       " '042.coffin',\n",
       " '008.bathtub',\n",
       " '227.treadmill',\n",
       " '026.cake',\n",
       " '125.knife',\n",
       " '234.tweezer',\n",
       " '188.smokestack',\n",
       " '236.unicorn',\n",
       " '223.top-hat',\n",
       " '246.wine-bottle',\n",
       " '009.bear',\n",
       " '117.ipod',\n",
       " '003.backpack',\n",
       " '148.mussels',\n",
       " '060.duck',\n",
       " '240.watch-101',\n",
       " '115.ice-cream-cone',\n",
       " '108.hot-dog',\n",
       " '095.hamburger',\n",
       " '007.bat',\n",
       " '252.car-side-101',\n",
       " '167.pyramid',\n",
       " '056.dog',\n",
       " '221.tomato',\n",
       " '144.minotaur',\n",
       " '189.snail',\n",
       " '011.billiards',\n",
       " '055.dice',\n",
       " '061.dumb-bell',\n",
       " '119.jesus-christ',\n",
       " '194.socks',\n",
       " '054.diamond-ring',\n",
       " '100.hawksbill-101',\n",
       " '093.grasshopper',\n",
       " '082.galaxy',\n",
       " '111.house-fly',\n",
       " '146.mountain-bike',\n",
       " '064.elephant-101',\n",
       " '209.sword',\n",
       " '085.goat',\n",
       " '157.pci-card',\n",
       " '025.cactus',\n",
       " '072.fire-truck',\n",
       " '138.mattress',\n",
       " '048.conch',\n",
       " '001.ak47',\n",
       " '031.car-tire',\n",
       " '257.clutter',\n",
       " '145.motorbikes-101',\n",
       " '180.screwdriver',\n",
       " '235.umbrella-101',\n",
       " '014.blimp',\n",
       " '122.kayak',\n",
       " '046.computer-monitor',\n",
       " '079.frisbee',\n",
       " '089.goose',\n",
       " '078.fried-egg',\n",
       " '210.syringe',\n",
       " '249.yo-yo',\n",
       " '081.frying-pan',\n",
       " '032.cartman',\n",
       " '169.radio-telescope',\n",
       " '152.owl',\n",
       " '088.golf-ball',\n",
       " '101.head-phones',\n",
       " '244.wheelbarrow',\n",
       " '136.mandolin',\n",
       " '062.eiffel-tower',\n",
       " '112.human-skeleton',\n",
       " '171.refrigerator',\n",
       " '059.drinking-straw',\n",
       " '005.baseball-glove',\n",
       " '176.saddle',\n",
       " '250.zebra',\n",
       " '245.windmill',\n",
       " '139.megaphone',\n",
       " '109.hot-tub',\n",
       " '211.tambourine',\n",
       " '232.t-shirt',\n",
       " '187.skyscraper',\n",
       " '084.giraffe',\n",
       " '074.flashlight',\n",
       " '103.hibiscus',\n",
       " '199.spoon',\n",
       " '040.cockroach',\n",
       " '164.porcupine',\n",
       " '212.teapot',\n",
       " '114.ibis-101',\n",
       " '033.cd',\n",
       " '066.ewer-101',\n",
       " '161.photocopier',\n",
       " '160.pez-dispenser',\n",
       " '254.greyhound',\n",
       " '121.kangaroo-101',\n",
       " '186.skunk']"
      ]
     },
     "execution_count": 15,
     "metadata": {},
     "output_type": "execute_result"
    }
   ],
   "source": [
    "os.listdir('256_ObjectCategories')"
   ]
  },
  {
   "cell_type": "code",
   "execution_count": 16,
   "metadata": {},
   "outputs": [],
   "source": [
    "samples = ['177.saturn',\n",
    "'120.joy-stick',\n",
    "'130.license-plate',\n",
    "'078.fried-egg']"
   ]
  },
  {
   "cell_type": "code",
   "execution_count": 17,
   "metadata": {},
   "outputs": [],
   "source": [
    "!mkdir modeldata \n"
   ]
  },
  {
   "cell_type": "code",
   "execution_count": 18,
   "metadata": {},
   "outputs": [],
   "source": [
    "!mkdir splitdata"
   ]
  },
  {
   "cell_type": "code",
   "execution_count": 19,
   "metadata": {},
   "outputs": [
    {
     "name": "stdout",
     "output_type": "stream",
     "text": [
      "‘./256_ObjectCategories/177.saturn’ -> ‘./modeldata/177.saturn’\n",
      "‘./256_ObjectCategories/120.joy-stick’ -> ‘./modeldata/120.joy-stick’\n",
      "‘./256_ObjectCategories/130.license-plate’ -> ‘./modeldata/130.license-plate’\n",
      "‘./256_ObjectCategories/078.fried-egg’ -> ‘./modeldata/078.fried-egg’\n"
     ]
    }
   ],
   "source": [
    "for sample in samples:\n",
    "    !mv  -v ./256_ObjectCategories/{sample} ./modeldata/{sample}"
   ]
  },
  {
   "cell_type": "code",
   "execution_count": 20,
   "metadata": {},
   "outputs": [],
   "source": [
    "root_dir = 'modeldata'\n",
    "destination = 'splitdata'\n",
    "classes_dir = os.listdir('modeldata')\n",
    "\n",
    "val_ratio = 0.25\n",
    "test_ratio = 0.05"
   ]
  },
  {
   "cell_type": "code",
   "execution_count": 21,
   "metadata": {},
   "outputs": [
    {
     "data": {
      "text/plain": [
       "['177.saturn', '120.joy-stick', '130.license-plate', '078.fried-egg']"
      ]
     },
     "execution_count": 21,
     "metadata": {},
     "output_type": "execute_result"
    }
   ],
   "source": [
    "classes_dir"
   ]
  },
  {
   "cell_type": "code",
   "execution_count": 22,
   "metadata": {},
   "outputs": [
    {
     "name": "stdout",
     "output_type": "stream",
     "text": [
      "Total images:  96\n",
      "Training:  76\n",
      "Validation:  15\n",
      "Testing:  5\n",
      "Total images:  130\n",
      "Training:  104\n",
      "Validation:  19\n",
      "Testing:  7\n",
      "Total images:  91\n",
      "Training:  72\n",
      "Validation:  14\n",
      "Testing:  5\n",
      "Total images:  90\n",
      "Training:  72\n",
      "Validation:  13\n",
      "Testing:  5\n"
     ]
    }
   ],
   "source": [
    "\n",
    "# # Creating Train / Val / Test folders (One time use)\n",
    "\n",
    "for cls in classes_dir:\n",
    "    os.makedirs(destination +'/train/' + cls)\n",
    "    os.makedirs(destination +'/val/' + cls)\n",
    "    os.makedirs(destination +'/test/' + cls)\n",
    "\n",
    "\n",
    "    # Creating partitions of the data before shuffling\n",
    "    src = root_dir + '/' + cls # Folder to copy images from\n",
    "\n",
    "    all_file_names = os.listdir(src)\n",
    "    np.random.shuffle(all_file_names)\n",
    "    train_file_names, val_file_names, test_file_names = np.split(np.array(all_file_names),\n",
    "                                                              [int(len(all_file_names)* (1 - val_ratio + test_ratio)), \n",
    "                                                               int(len(all_file_names)* (1 - test_ratio))])\n",
    "    \n",
    "    train_sources = [src+'/'+ name for name in train_file_names.tolist()]\n",
    "    val_sources = [src+'/' + name for name in val_file_names.tolist()]\n",
    "    test_sources = [src+'/' + name for name in test_file_names.tolist()]\n",
    "\n",
    "    print('Total images: ', len(all_file_names))\n",
    "    print('Training: ', len(train_file_names))\n",
    "    print('Validation: ', len(val_file_names))\n",
    "    print('Testing: ', len(test_file_names))\n",
    "\n",
    "    # Copy-pasting images\n",
    "    for index,source in enumerate(train_sources):\n",
    "        shutil.copy(source, destination +'/train/' + cls + '/' + train_file_names[index])\n",
    "\n",
    "    for index,source in enumerate(val_sources):\n",
    "        shutil.copy(source, destination +'/val/' + cls + '/' + val_file_names[index])\n",
    "\n",
    "    for index,source in enumerate(test_sources):\n",
    "        shutil.copy(source, destination +'/test/' + cls + '/' + test_file_names[index])\n"
   ]
  },
  {
   "cell_type": "code",
   "execution_count": null,
   "metadata": {},
   "outputs": [],
   "source": []
  }
 ],
 "metadata": {
  "kernelspec": {
   "display_name": "conda_python3",
   "language": "python",
   "name": "conda_python3"
  },
  "language_info": {
   "codemirror_mode": {
    "name": "ipython",
    "version": 3
   },
   "file_extension": ".py",
   "mimetype": "text/x-python",
   "name": "python",
   "nbconvert_exporter": "python",
   "pygments_lexer": "ipython3",
   "version": "3.6.10"
  }
 },
 "nbformat": 4,
 "nbformat_minor": 4
}
